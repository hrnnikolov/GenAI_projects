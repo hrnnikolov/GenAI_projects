{
 "cells": [
  {
   "cell_type": "code",
   "execution_count": 49,
   "id": "d153ac76",
   "metadata": {
    "ExecuteTime": {
     "end_time": "2024-05-16T10:38:04.230787Z",
     "start_time": "2024-05-16T10:38:04.209683Z"
    }
   },
   "outputs": [
    {
     "name": "stdout",
     "output_type": "stream",
     "text": [
      "Overwriting main.py\n"
     ]
    }
   ],
   "source": [
    "%%writefile main.py\n",
    "import os\n",
    "import streamlit as st\n",
    "import pickle\n",
    "import time\n",
    "from langchain import OpenAI\n",
    "from langchain.chains import RetrievalQAWithSourcesChain\n",
    "from langchain.text_splitter import RecursiveCharacterTextSplitter\n",
    "from langchain.document_loaders import UnstructuredURLLoader\n",
    "from langchain.embeddings import OpenAIEmbeddings\n",
    "from langchain.vectorstores import FAISS\n",
    "from dotenv import load_dotenv, find_dotenv\n",
    "\n",
    "_ = load_dotenv(find_dotenv())\n",
    "\n",
    "os.environ['OPENAI_API_KEY'] = os.getenv(\"OPENAI_API_KEY\")\n",
    "llm = OpenAI(temperature=0.9, max_tokens=500)\n",
    "\n",
    "file_path = 'faiss_store_openai.pkl'\n",
    "\n",
    "st.title('News Research Tool📈')\n",
    "st.sidebar.title('News Article URLs')\n",
    "main_placefolder = st.empty()\n",
    "\n",
    "#create a sidebar with inputs for url\n",
    "urls = []\n",
    "for i in range(3):\n",
    "    url = st.sidebar.text_input(f'URL {i+1}')\n",
    "    urls.append(url)\n",
    "\n",
    "process_url_clicked = st.sidebar.button('Process URLs')\n",
    "\n",
    "if process_url_clicked:\n",
    "    #load data\n",
    "    loader = UnstructuredURLLoader(urls=urls)\n",
    "    main_placefolder.text('Data Loading...Started...⏳⏳⏳')\n",
    "    data = loader.load()\n",
    "\n",
    "    #split data\n",
    "    text_splitter = RecursiveCharacterTextSplitter(\n",
    "        separators=['\\n\\n', '\\n', '.', ','], chunk_size=1000)\n",
    "\n",
    "    main_placefolder.text('Text Splitter...Started...⏳⏳⏳')\n",
    "    docs = text_splitter.split_documents(data)\n",
    "\n",
    "    #embeddings\n",
    "    embeddings = OpenAIEmbeddings()\n",
    "    vectorstore_openai = FAISS.from_documents(docs, embedding=embeddings)\n",
    "    main_placefolder.text('Embedding Vector Started Building...⏳⏳⏳')\n",
    "    time.sleep(2)\n",
    "\n",
    "    #save in a pickle format\n",
    "    vectorindex_openai_to_bytes = vectorstore_openai.serialize_to_bytes()\n",
    "    with open(file_path, 'wb') as f:\n",
    "        pickle.dump(vectorindex_openai_to_bytes, f)\n",
    "\n",
    "#load info from the file\n",
    "query = main_placefolder.text_input('Question: ')\n",
    "embeddings = OpenAIEmbeddings()\n",
    "if query:\n",
    "    if os.path.exists(file_path):\n",
    "        with open(file_path, 'rb') as f:\n",
    "            vectorIndex = pickle.load(f)\n",
    "            vectorindex_openai_from_bytes = FAISS.deserialize_from_bytes(\n",
    "                embeddings=embeddings, serialized=vectorIndex)\n",
    "            chain = RetrievalQAWithSourcesChain.from_llm(\n",
    "                llm=llm,\n",
    "                retriever=vectorindex_openai_from_bytes.as_retriever())\n",
    "            result = chain({'question': query}, return_only_outputs=True)\n",
    "            st.header('Answer')\n",
    "            st.write(result['answer'])\n",
    "            \n",
    "            #display source\n",
    "            sources = result.get('sources', '')\n",
    "            if sources:\n",
    "                st.subheader('Sources:')\n",
    "                sources_list = sources.split('\\n')\n",
    "                for source in sources_list:\n",
    "                    st.write(source)\n",
    "            "
   ]
  },
  {
   "cell_type": "code",
   "execution_count": null,
   "id": "d465e0ab",
   "metadata": {},
   "outputs": [],
   "source": []
  },
  {
   "cell_type": "code",
   "execution_count": null,
   "id": "9c4a918e",
   "metadata": {},
   "outputs": [],
   "source": []
  }
 ],
 "metadata": {
  "kernelspec": {
   "display_name": "Python 3 (ipykernel)",
   "language": "python",
   "name": "python3"
  },
  "language_info": {
   "codemirror_mode": {
    "name": "ipython",
    "version": 3
   },
   "file_extension": ".py",
   "mimetype": "text/x-python",
   "name": "python",
   "nbconvert_exporter": "python",
   "pygments_lexer": "ipython3",
   "version": "3.10.9"
  },
  "toc": {
   "base_numbering": 1,
   "nav_menu": {},
   "number_sections": true,
   "sideBar": true,
   "skip_h1_title": false,
   "title_cell": "Table of Contents",
   "title_sidebar": "Contents",
   "toc_cell": false,
   "toc_position": {},
   "toc_section_display": true,
   "toc_window_display": false
  },
  "varInspector": {
   "cols": {
    "lenName": 16,
    "lenType": 16,
    "lenVar": 40
   },
   "kernels_config": {
    "python": {
     "delete_cmd_postfix": "",
     "delete_cmd_prefix": "del ",
     "library": "var_list.py",
     "varRefreshCmd": "print(var_dic_list())"
    },
    "r": {
     "delete_cmd_postfix": ") ",
     "delete_cmd_prefix": "rm(",
     "library": "var_list.r",
     "varRefreshCmd": "cat(var_dic_list()) "
    }
   },
   "types_to_exclude": [
    "module",
    "function",
    "builtin_function_or_method",
    "instance",
    "_Feature"
   ],
   "window_display": false
  }
 },
 "nbformat": 4,
 "nbformat_minor": 5
}
