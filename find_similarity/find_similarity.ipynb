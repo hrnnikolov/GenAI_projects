{
 "cells": [
  {
   "cell_type": "code",
   "execution_count": 6,
   "id": "a8a5ecd5",
   "metadata": {
    "ExecuteTime": {
     "end_time": "2024-06-05T08:40:27.156281Z",
     "start_time": "2024-06-05T08:40:27.136906Z"
    }
   },
   "outputs": [],
   "source": [
    "import os\n",
    "from dotenv import load_dotenv, find_dotenv\n",
    "\n",
    "load_dotenv()\n",
    "\n",
    "os.environ['OPENAI_API_KEY'] = os.getenv('OPENAI_API_KEY')"
   ]
  },
  {
   "cell_type": "code",
   "execution_count": 8,
   "id": "b5e0d737",
   "metadata": {
    "ExecuteTime": {
     "end_time": "2024-06-05T08:52:15.583667Z",
     "start_time": "2024-06-05T08:52:15.566677Z"
    }
   },
   "outputs": [
    {
     "name": "stdout",
     "output_type": "stream",
     "text": [
      "Writing find_similarity.py\n"
     ]
    }
   ],
   "source": [
    "%%writefile find_similarity.py\n",
    "\n",
    "import streamlit as st\n",
    "import os\n",
    "from langchain.embeddings import OpenAIEmbeddings\n",
    "from langchain.vectorstores import FAISS\n",
    "from dotenv import load_dotenv\n",
    "from langchain.document_loaders.csv_loader import CSVLoader\n",
    "\n",
    "def get_text():\n",
    "    input_text = st.text_input('You: ', key=input)\n",
    "    return input_text\n",
    "\n",
    "st.set_page_config(page_title='Educate Kids', page_icon=':robot:')\n",
    "st.header('Hey, Ask me something & I will give out similar things')\n",
    "\n",
    "embeddings = OpenAIEmbeddings()\n",
    "\n",
    "loader = CSVLoader(file_path='myData.csv', csv_args={\n",
    "    'delimiter': ',',\n",
    "    'quotechar': '\"',\n",
    "    'fieldnames': ['Words']\n",
    "})\n",
    "\n",
    "data = loader.load()\n",
    "\n",
    "db = FAISS.from_documents(data, embeddings)\n",
    "\n",
    "user_input = get_text()\n",
    "submit = st.button('Find similar things')\n",
    "\n",
    "if submit:\n",
    "    docs = db.similarity_search(user_input)\n",
    "    st.subheader('Top Matches:')\n",
    "    st.text(docs[0].page_content)\n",
    "    st.text(docs[1].page_content)"
   ]
  },
  {
   "cell_type": "code",
   "execution_count": null,
   "id": "e745f53b",
   "metadata": {},
   "outputs": [],
   "source": []
  }
 ],
 "metadata": {
  "kernelspec": {
   "display_name": "Python 3 (ipykernel)",
   "language": "python",
   "name": "python3"
  },
  "language_info": {
   "codemirror_mode": {
    "name": "ipython",
    "version": 3
   },
   "file_extension": ".py",
   "mimetype": "text/x-python",
   "name": "python",
   "nbconvert_exporter": "python",
   "pygments_lexer": "ipython3",
   "version": "3.10.9"
  },
  "toc": {
   "base_numbering": 1,
   "nav_menu": {},
   "number_sections": true,
   "sideBar": true,
   "skip_h1_title": false,
   "title_cell": "Table of Contents",
   "title_sidebar": "Contents",
   "toc_cell": false,
   "toc_position": {},
   "toc_section_display": true,
   "toc_window_display": false
  },
  "varInspector": {
   "cols": {
    "lenName": 16,
    "lenType": 16,
    "lenVar": 40
   },
   "kernels_config": {
    "python": {
     "delete_cmd_postfix": "",
     "delete_cmd_prefix": "del ",
     "library": "var_list.py",
     "varRefreshCmd": "print(var_dic_list())"
    },
    "r": {
     "delete_cmd_postfix": ") ",
     "delete_cmd_prefix": "rm(",
     "library": "var_list.r",
     "varRefreshCmd": "cat(var_dic_list()) "
    }
   },
   "types_to_exclude": [
    "module",
    "function",
    "builtin_function_or_method",
    "instance",
    "_Feature"
   ],
   "window_display": false
  }
 },
 "nbformat": 4,
 "nbformat_minor": 5
}
